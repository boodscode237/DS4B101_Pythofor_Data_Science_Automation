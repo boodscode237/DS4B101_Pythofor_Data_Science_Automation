{
 "cells": [
  {
   "cell_type": "code",
   "execution_count": 6,
   "id": "initial_id",
   "metadata": {
    "ExecuteTime": {
     "end_time": "2023-09-26T21:29:13.197074900Z",
     "start_time": "2023-09-26T21:29:13.043726900Z"
    }
   },
   "outputs": [],
   "source": [
    "# Core Python Data Analysis\n",
    "import pandas as pd\n",
    "import numpy as np\n",
    "import matplotlib.pyplot as plt\n",
    "\n",
    "# Plotting\n",
    "from plotnine import (\n",
    "    ggplot, aes,\n",
    "    geom_col, geom_line, geom_smooth,\n",
    "    facet_wrap,\n",
    "    scale_y_continuous, scale_x_continuous,\n",
    "    labs,\n",
    "    theme, theme_minimal, theme_matplotlib\n",
    ")\n",
    "\n",
    "from mizani.breaks import date_breaks\n",
    "from mizani.formatters import date_format, currency_format\n",
    "\n",
    "# Misc\n",
    "from os import mkdir, getcwd, path\n",
    "\n",
    "from rich import pretty\n",
    "pretty.install()\n"
   ]
  },
  {
   "cell_type": "code",
   "execution_count": 7,
   "id": "ee83cc42",
   "metadata": {
    "ExecuteTime": {
     "end_time": "2023-09-26T21:29:14.085194Z",
     "start_time": "2023-09-26T21:29:13.080725700Z"
    }
   },
   "outputs": [],
   "source": [
    "import warnings\n",
    "from openpyxl import Workbook"
   ]
  },
  {
   "cell_type": "code",
   "execution_count": 8,
   "id": "3b7f17ecd8888906",
   "metadata": {
    "ExecuteTime": {
     "end_time": "2023-09-26T21:29:14.591099700Z",
     "start_time": "2023-09-26T21:29:14.099193400Z"
    }
   },
   "outputs": [
    {
     "ename": "FileNotFoundError",
     "evalue": "[Errno 2] No such file or directory: './00_data_raw/bikes.xlsx'",
     "output_type": "error",
     "traceback": [
      "\u001B[1;31m---------------------------------------------------------------------------\u001B[0m",
      "\u001B[1;31mFileNotFoundError\u001B[0m                         Traceback (most recent call last)",
      "Cell \u001B[1;32mIn[8], line 6\u001B[0m\n\u001B[0;32m      1\u001B[0m \u001B[38;5;66;03m# 2.0 Importing Data Files ----\u001B[39;00m\n\u001B[0;32m      2\u001B[0m \u001B[38;5;66;03m# help(pd.read_excel)\u001B[39;00m\n\u001B[0;32m      3\u001B[0m \u001B[38;5;66;03m# - Use \"q\" to quit\u001B[39;00m\n\u001B[0;32m      4\u001B[0m \n\u001B[0;32m      5\u001B[0m \u001B[38;5;66;03m# getcwd()\u001B[39;00m\n\u001B[1;32m----> 6\u001B[0m bikes_df \u001B[38;5;241m=\u001B[39m \u001B[43mpd\u001B[49m\u001B[38;5;241;43m.\u001B[39;49m\u001B[43mread_excel\u001B[49m\u001B[43m(\u001B[49m\u001B[38;5;124;43mf\u001B[39;49m\u001B[38;5;124;43m'\u001B[39;49m\u001B[38;5;124;43m./00_data_raw/bikes.xlsx\u001B[39;49m\u001B[38;5;124;43m'\u001B[39;49m\u001B[43m,\u001B[49m\u001B[43m \u001B[49m\u001B[43mengine\u001B[49m\u001B[38;5;241;43m=\u001B[39;49m\u001B[38;5;124;43m\"\u001B[39;49m\u001B[38;5;124;43mopenpyxl\u001B[39;49m\u001B[38;5;124;43m\"\u001B[39;49m\u001B[43m)\u001B[49m\n\u001B[0;32m      7\u001B[0m bikes_shops_df \u001B[38;5;241m=\u001B[39m pd\u001B[38;5;241m.\u001B[39mread_excel(\u001B[38;5;124m'\u001B[39m\u001B[38;5;124m./00_data_raw/bikeshops.xlsx\u001B[39m\u001B[38;5;124m'\u001B[39m, engine\u001B[38;5;241m=\u001B[39m\u001B[38;5;124m\"\u001B[39m\u001B[38;5;124mopenpyxl\u001B[39m\u001B[38;5;124m\"\u001B[39m)\n\u001B[0;32m      8\u001B[0m orderlines_df \u001B[38;5;241m=\u001B[39m pd\u001B[38;5;241m.\u001B[39mread_excel(\n\u001B[0;32m      9\u001B[0m     io\u001B[38;5;241m=\u001B[39m\u001B[38;5;124m'\u001B[39m\u001B[38;5;124m00_data_raw/orderlines.xlsx\u001B[39m\u001B[38;5;124m'\u001B[39m,\n\u001B[0;32m     10\u001B[0m     converters\u001B[38;5;241m=\u001B[39m{\u001B[38;5;124m'\u001B[39m\u001B[38;5;124morder.date\u001B[39m\u001B[38;5;124m'\u001B[39m: \u001B[38;5;28mstr\u001B[39m},\n\u001B[0;32m     11\u001B[0m     engine\u001B[38;5;241m=\u001B[39m\u001B[38;5;124m\"\u001B[39m\u001B[38;5;124mopenpyxl\u001B[39m\u001B[38;5;124m\"\u001B[39m\n\u001B[0;32m     12\u001B[0m )\n",
      "File \u001B[1;32m~\\AppData\\Local\\Programs\\Python\\Python39\\lib\\site-packages\\pandas\\io\\excel\\_base.py:478\u001B[0m, in \u001B[0;36mread_excel\u001B[1;34m(io, sheet_name, header, names, index_col, usecols, dtype, engine, converters, true_values, false_values, skiprows, nrows, na_values, keep_default_na, na_filter, verbose, parse_dates, date_parser, date_format, thousands, decimal, comment, skipfooter, storage_options, dtype_backend)\u001B[0m\n\u001B[0;32m    476\u001B[0m \u001B[38;5;28;01mif\u001B[39;00m \u001B[38;5;129;01mnot\u001B[39;00m \u001B[38;5;28misinstance\u001B[39m(io, ExcelFile):\n\u001B[0;32m    477\u001B[0m     should_close \u001B[38;5;241m=\u001B[39m \u001B[38;5;28;01mTrue\u001B[39;00m\n\u001B[1;32m--> 478\u001B[0m     io \u001B[38;5;241m=\u001B[39m \u001B[43mExcelFile\u001B[49m\u001B[43m(\u001B[49m\u001B[43mio\u001B[49m\u001B[43m,\u001B[49m\u001B[43m \u001B[49m\u001B[43mstorage_options\u001B[49m\u001B[38;5;241;43m=\u001B[39;49m\u001B[43mstorage_options\u001B[49m\u001B[43m,\u001B[49m\u001B[43m \u001B[49m\u001B[43mengine\u001B[49m\u001B[38;5;241;43m=\u001B[39;49m\u001B[43mengine\u001B[49m\u001B[43m)\u001B[49m\n\u001B[0;32m    479\u001B[0m \u001B[38;5;28;01melif\u001B[39;00m engine \u001B[38;5;129;01mand\u001B[39;00m engine \u001B[38;5;241m!=\u001B[39m io\u001B[38;5;241m.\u001B[39mengine:\n\u001B[0;32m    480\u001B[0m     \u001B[38;5;28;01mraise\u001B[39;00m \u001B[38;5;167;01mValueError\u001B[39;00m(\n\u001B[0;32m    481\u001B[0m         \u001B[38;5;124m\"\u001B[39m\u001B[38;5;124mEngine should not be specified when passing \u001B[39m\u001B[38;5;124m\"\u001B[39m\n\u001B[0;32m    482\u001B[0m         \u001B[38;5;124m\"\u001B[39m\u001B[38;5;124man ExcelFile - ExcelFile already has the engine set\u001B[39m\u001B[38;5;124m\"\u001B[39m\n\u001B[0;32m    483\u001B[0m     )\n",
      "File \u001B[1;32m~\\AppData\\Local\\Programs\\Python\\Python39\\lib\\site-packages\\pandas\\io\\excel\\_base.py:1513\u001B[0m, in \u001B[0;36mExcelFile.__init__\u001B[1;34m(self, path_or_buffer, engine, storage_options)\u001B[0m\n\u001B[0;32m   1510\u001B[0m \u001B[38;5;28mself\u001B[39m\u001B[38;5;241m.\u001B[39mengine \u001B[38;5;241m=\u001B[39m engine\n\u001B[0;32m   1511\u001B[0m \u001B[38;5;28mself\u001B[39m\u001B[38;5;241m.\u001B[39mstorage_options \u001B[38;5;241m=\u001B[39m storage_options\n\u001B[1;32m-> 1513\u001B[0m \u001B[38;5;28mself\u001B[39m\u001B[38;5;241m.\u001B[39m_reader \u001B[38;5;241m=\u001B[39m \u001B[38;5;28;43mself\u001B[39;49m\u001B[38;5;241;43m.\u001B[39;49m\u001B[43m_engines\u001B[49m\u001B[43m[\u001B[49m\u001B[43mengine\u001B[49m\u001B[43m]\u001B[49m\u001B[43m(\u001B[49m\u001B[38;5;28;43mself\u001B[39;49m\u001B[38;5;241;43m.\u001B[39;49m\u001B[43m_io\u001B[49m\u001B[43m,\u001B[49m\u001B[43m \u001B[49m\u001B[43mstorage_options\u001B[49m\u001B[38;5;241;43m=\u001B[39;49m\u001B[43mstorage_options\u001B[49m\u001B[43m)\u001B[49m\n",
      "File \u001B[1;32m~\\AppData\\Local\\Programs\\Python\\Python39\\lib\\site-packages\\pandas\\io\\excel\\_openpyxl.py:549\u001B[0m, in \u001B[0;36mOpenpyxlReader.__init__\u001B[1;34m(self, filepath_or_buffer, storage_options)\u001B[0m\n\u001B[0;32m    539\u001B[0m \u001B[38;5;250m\u001B[39m\u001B[38;5;124;03m\"\"\"\u001B[39;00m\n\u001B[0;32m    540\u001B[0m \u001B[38;5;124;03mReader using openpyxl engine.\u001B[39;00m\n\u001B[0;32m    541\u001B[0m \n\u001B[1;32m   (...)\u001B[0m\n\u001B[0;32m    546\u001B[0m \u001B[38;5;124;03m{storage_options}\u001B[39;00m\n\u001B[0;32m    547\u001B[0m \u001B[38;5;124;03m\"\"\"\u001B[39;00m\n\u001B[0;32m    548\u001B[0m import_optional_dependency(\u001B[38;5;124m\"\u001B[39m\u001B[38;5;124mopenpyxl\u001B[39m\u001B[38;5;124m\"\u001B[39m)\n\u001B[1;32m--> 549\u001B[0m \u001B[38;5;28;43msuper\u001B[39;49m\u001B[43m(\u001B[49m\u001B[43m)\u001B[49m\u001B[38;5;241;43m.\u001B[39;49m\u001B[38;5;21;43m__init__\u001B[39;49m\u001B[43m(\u001B[49m\u001B[43mfilepath_or_buffer\u001B[49m\u001B[43m,\u001B[49m\u001B[43m \u001B[49m\u001B[43mstorage_options\u001B[49m\u001B[38;5;241;43m=\u001B[39;49m\u001B[43mstorage_options\u001B[49m\u001B[43m)\u001B[49m\n",
      "File \u001B[1;32m~\\AppData\\Local\\Programs\\Python\\Python39\\lib\\site-packages\\pandas\\io\\excel\\_base.py:530\u001B[0m, in \u001B[0;36mBaseExcelReader.__init__\u001B[1;34m(self, filepath_or_buffer, storage_options)\u001B[0m\n\u001B[0;32m    526\u001B[0m \u001B[38;5;28mself\u001B[39m\u001B[38;5;241m.\u001B[39mhandles \u001B[38;5;241m=\u001B[39m IOHandles(\n\u001B[0;32m    527\u001B[0m     handle\u001B[38;5;241m=\u001B[39mfilepath_or_buffer, compression\u001B[38;5;241m=\u001B[39m{\u001B[38;5;124m\"\u001B[39m\u001B[38;5;124mmethod\u001B[39m\u001B[38;5;124m\"\u001B[39m: \u001B[38;5;28;01mNone\u001B[39;00m}\n\u001B[0;32m    528\u001B[0m )\n\u001B[0;32m    529\u001B[0m \u001B[38;5;28;01mif\u001B[39;00m \u001B[38;5;129;01mnot\u001B[39;00m \u001B[38;5;28misinstance\u001B[39m(filepath_or_buffer, (ExcelFile, \u001B[38;5;28mself\u001B[39m\u001B[38;5;241m.\u001B[39m_workbook_class)):\n\u001B[1;32m--> 530\u001B[0m     \u001B[38;5;28mself\u001B[39m\u001B[38;5;241m.\u001B[39mhandles \u001B[38;5;241m=\u001B[39m \u001B[43mget_handle\u001B[49m\u001B[43m(\u001B[49m\n\u001B[0;32m    531\u001B[0m \u001B[43m        \u001B[49m\u001B[43mfilepath_or_buffer\u001B[49m\u001B[43m,\u001B[49m\u001B[43m \u001B[49m\u001B[38;5;124;43m\"\u001B[39;49m\u001B[38;5;124;43mrb\u001B[39;49m\u001B[38;5;124;43m\"\u001B[39;49m\u001B[43m,\u001B[49m\u001B[43m \u001B[49m\u001B[43mstorage_options\u001B[49m\u001B[38;5;241;43m=\u001B[39;49m\u001B[43mstorage_options\u001B[49m\u001B[43m,\u001B[49m\u001B[43m \u001B[49m\u001B[43mis_text\u001B[49m\u001B[38;5;241;43m=\u001B[39;49m\u001B[38;5;28;43;01mFalse\u001B[39;49;00m\n\u001B[0;32m    532\u001B[0m \u001B[43m    \u001B[49m\u001B[43m)\u001B[49m\n\u001B[0;32m    534\u001B[0m \u001B[38;5;28;01mif\u001B[39;00m \u001B[38;5;28misinstance\u001B[39m(\u001B[38;5;28mself\u001B[39m\u001B[38;5;241m.\u001B[39mhandles\u001B[38;5;241m.\u001B[39mhandle, \u001B[38;5;28mself\u001B[39m\u001B[38;5;241m.\u001B[39m_workbook_class):\n\u001B[0;32m    535\u001B[0m     \u001B[38;5;28mself\u001B[39m\u001B[38;5;241m.\u001B[39mbook \u001B[38;5;241m=\u001B[39m \u001B[38;5;28mself\u001B[39m\u001B[38;5;241m.\u001B[39mhandles\u001B[38;5;241m.\u001B[39mhandle\n",
      "File \u001B[1;32m~\\AppData\\Local\\Programs\\Python\\Python39\\lib\\site-packages\\pandas\\io\\common.py:868\u001B[0m, in \u001B[0;36mget_handle\u001B[1;34m(path_or_buf, mode, encoding, compression, memory_map, is_text, errors, storage_options)\u001B[0m\n\u001B[0;32m    859\u001B[0m         handle \u001B[38;5;241m=\u001B[39m \u001B[38;5;28mopen\u001B[39m(\n\u001B[0;32m    860\u001B[0m             handle,\n\u001B[0;32m    861\u001B[0m             ioargs\u001B[38;5;241m.\u001B[39mmode,\n\u001B[1;32m   (...)\u001B[0m\n\u001B[0;32m    864\u001B[0m             newline\u001B[38;5;241m=\u001B[39m\u001B[38;5;124m\"\u001B[39m\u001B[38;5;124m\"\u001B[39m,\n\u001B[0;32m    865\u001B[0m         )\n\u001B[0;32m    866\u001B[0m     \u001B[38;5;28;01melse\u001B[39;00m:\n\u001B[0;32m    867\u001B[0m         \u001B[38;5;66;03m# Binary mode\u001B[39;00m\n\u001B[1;32m--> 868\u001B[0m         handle \u001B[38;5;241m=\u001B[39m \u001B[38;5;28;43mopen\u001B[39;49m\u001B[43m(\u001B[49m\u001B[43mhandle\u001B[49m\u001B[43m,\u001B[49m\u001B[43m \u001B[49m\u001B[43mioargs\u001B[49m\u001B[38;5;241;43m.\u001B[39;49m\u001B[43mmode\u001B[49m\u001B[43m)\u001B[49m\n\u001B[0;32m    869\u001B[0m     handles\u001B[38;5;241m.\u001B[39mappend(handle)\n\u001B[0;32m    871\u001B[0m \u001B[38;5;66;03m# Convert BytesIO or file objects passed with an encoding\u001B[39;00m\n",
      "\u001B[1;31mFileNotFoundError\u001B[0m: [Errno 2] No such file or directory: './00_data_raw/bikes.xlsx'"
     ]
    }
   ],
   "source": [
    "# 2.0 Importing Data Files ----\n",
    "# help(pd.read_excel)\n",
    "# - Use \"q\" to quit\n",
    "\n",
    "# getcwd()\n",
    "bikes_df = pd.read_excel(f'./00_data_raw/bikes.xlsx', engine=\"openpyxl\")\n",
    "bikes_shops_df = pd.read_excel('./00_data_raw/bikeshops.xlsx', engine=\"openpyxl\")\n",
    "orderlines_df = pd.read_excel(\n",
    "    io='00_data_raw/orderlines.xlsx',\n",
    "    converters={'order.date': str},\n",
    "    engine=\"openpyxl\"\n",
    ")\n",
    "\n",
    "# bikes_df.head(10)\n",
    "# # bike = path.abspath(\"\")\n",
    "# def get_local_folder():\n",
    "#     return path.dirname(path.realpath('00_data_raw/bikes.xlsx'))\n",
    "\n",
    "# rt_fldr = get_local_folder()\n",
    "# print(f'rel: {rt_fldr}')\n",
    "bikes_shops_df\n",
    "bikes_df.head(10)\n",
    "orderlines_df"
   ]
  },
  {
   "cell_type": "code",
   "execution_count": null,
   "id": "92396f4ceac829c1",
   "metadata": {
    "ExecuteTime": {
     "start_time": "2023-09-26T21:29:14.588101Z"
    }
   },
   "outputs": [],
   "source": [
    "# 3.0 Examining Data ----\n",
    "\n",
    "\n",
    "# 4.0 Joining Data ----\n",
    "\n",
    "\n",
    "# 5.0 Wrangling Data ----\n",
    "\n",
    "# * No copy\n",
    "\n",
    "\n",
    "# * Copy\n",
    "\n",
    "\n",
    "# * Handle Dates\n",
    "\n",
    "\n",
    "# * Show Effect: Copy vs No Copy\n",
    "\n",
    "\n",
    "# * Text Columns\n",
    "\n",
    "\n",
    "# * Splitting Description into category_1, category_2, and frame_material\n",
    "\n",
    "\n",
    "# * Splitting Location into City and State\n",
    "\n",
    "\n",
    "# * Price Extended\n",
    "\n",
    "\n",
    "# * Reorganizing\n",
    "\n",
    "\n",
    "# * Renaming columns\n",
    "\n",
    "\n",
    "# 6.0 Visualizing a Time Series ----\n",
    "\n",
    "\n",
    "# 6.1 Total Sales by Month ----\n",
    "\n",
    "\n",
    "# Quick Plot ----\n",
    "\n",
    "\n",
    "# Report Plot ----\n",
    "\n",
    "\n",
    "# 6.2 Sales by Year and Category 2 ----\n",
    "\n",
    "# ** Step 1 - Manipulate ----\n",
    "\n",
    "\n",
    "# Step 2 - Visualize ----\n",
    "\n",
    "\n",
    "# Simple Plot\n",
    "\n",
    "\n",
    "# Reporting Plot\n",
    "\n",
    "\n",
    "# 7.0 Writing Files ----\n",
    "\n",
    "\n",
    "# Pickle ----\n",
    "\n",
    "\n",
    "# CSV ----\n",
    "\n",
    "\n",
    "# Excel ----\n",
    "\n",
    "\n",
    "# WHERE WE'RE GOING\n",
    "# - Building a forecast system\n",
    "# - Create a database to host our raw data\n",
    "# - Develop Modular Functions to:\n",
    "#   - Collect data\n",
    "#   - Summarize data and prepare for forecast\n",
    "#   - Run Automatic Forecasting for One or More Time Series\n",
    "#   - Store Forecast in Database\n",
    "#   - Retrieve Forecasts and Report using Templates\n"
   ]
  },
  {
   "cell_type": "code",
   "execution_count": null,
   "id": "12ca8e65",
   "metadata": {
    "ExecuteTime": {
     "start_time": "2023-09-26T21:29:14.600104100Z"
    }
   },
   "outputs": [],
   "source": [
    "s = bikes_df['description']"
   ]
  },
  {
   "cell_type": "code",
   "execution_count": null,
   "id": "dbbcab29",
   "metadata": {
    "ExecuteTime": {
     "start_time": "2023-09-26T21:29:14.615104300Z"
    }
   },
   "outputs": [],
   "source": [
    "freq_count_series = s.value_counts()"
   ]
  },
  {
   "cell_type": "code",
   "execution_count": null,
   "id": "2232aa48",
   "metadata": {
    "ExecuteTime": {
     "start_time": "2023-09-26T21:29:14.619115200Z"
    }
   },
   "outputs": [],
   "source": [
    "freq_count_series.nlargest()"
   ]
  },
  {
   "cell_type": "code",
   "execution_count": null,
   "id": "2ad2e38e",
   "metadata": {
    "ExecuteTime": {
     "start_time": "2023-09-26T21:29:14.632118100Z"
    }
   },
   "outputs": [],
   "source": [
    "top5_bikes_series = bikes_df['description'].value_counts().nlargest()"
   ]
  },
  {
   "cell_type": "code",
   "execution_count": null,
   "id": "d3f21dec",
   "metadata": {
    "ExecuteTime": {
     "start_time": "2023-09-26T21:29:14.639638Z"
    }
   },
   "outputs": [],
   "source": [
    "?pd.Series.plot"
   ]
  },
  {
   "cell_type": "code",
   "execution_count": null,
   "id": "65eb02e6",
   "metadata": {
    "ExecuteTime": {
     "end_time": "2023-09-26T21:29:14.702636800Z",
     "start_time": "2023-09-26T21:29:14.645639800Z"
    }
   },
   "outputs": [],
   "source": [
    "top5_bikes_series"
   ]
  },
  {
   "cell_type": "code",
   "execution_count": null,
   "id": "e55b38aa",
   "metadata": {
    "ExecuteTime": {
     "start_time": "2023-09-26T21:29:14.652638500Z"
    }
   },
   "outputs": [],
   "source": [
    "fig1 = top5_bikes_series.plot(kind='barh')\n",
    "fig1.invert_yaxis()"
   ]
  },
  {
   "cell_type": "code",
   "execution_count": null,
   "id": "bb205a87",
   "metadata": {
    "ExecuteTime": {
     "start_time": "2023-09-26T21:29:14.659637500Z"
    }
   },
   "outputs": [],
   "source": [
    "fig2 = pd.Series.plot(top5_bikes_series)\n",
    "plt.show()"
   ]
  },
  {
   "cell_type": "code",
   "execution_count": null,
   "id": "24120ed3",
   "metadata": {
    "ExecuteTime": {
     "start_time": "2023-09-26T21:29:14.664638500Z"
    }
   },
   "outputs": [],
   "source": []
  },
  {
   "cell_type": "code",
   "execution_count": null,
   "id": "6cb2c418",
   "metadata": {
    "ExecuteTime": {
     "start_time": "2023-09-26T21:29:14.668637700Z"
    }
   },
   "outputs": [],
   "source": []
  }
 ],
 "metadata": {
  "kernelspec": {
   "display_name": "Python 3 (ipykernel)",
   "language": "python",
   "name": "python3"
  },
  "language_info": {
   "codemirror_mode": {
    "name": "ipython",
    "version": 3
   },
   "file_extension": ".py",
   "mimetype": "text/x-python",
   "name": "python",
   "nbconvert_exporter": "python",
   "pygments_lexer": "ipython3",
   "version": "3.9.7"
  }
 },
 "nbformat": 4,
 "nbformat_minor": 5
}
