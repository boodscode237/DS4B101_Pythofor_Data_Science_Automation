{
 "cells": [
  {
   "cell_type": "code",
   "execution_count": 9,
   "id": "initial_id",
   "metadata": {
    "ExecuteTime": {
     "end_time": "2023-09-28T16:15:35.039766200Z",
     "start_time": "2023-09-28T16:15:34.996746Z"
    }
   },
   "outputs": [
    {
     "ename": "ModuleNotFoundError",
     "evalue": "No module named 'pandas'",
     "output_type": "error",
     "traceback": [
      "\u001B[0;31m---------------------------------------------------------------------------\u001B[0m",
      "\u001B[0;31mModuleNotFoundError\u001B[0m                       Traceback (most recent call last)",
      "\u001B[0;32m/tmp/ipykernel_451/317905135.py\u001B[0m in \u001B[0;36m<module>\u001B[0;34m\u001B[0m\n\u001B[1;32m      1\u001B[0m \u001B[0;31m# Core Python Data Analysis\u001B[0m\u001B[0;34m\u001B[0m\u001B[0;34m\u001B[0m\u001B[0m\n\u001B[0;32m----> 2\u001B[0;31m \u001B[0;32mimport\u001B[0m \u001B[0mpandas\u001B[0m \u001B[0;32mas\u001B[0m \u001B[0mpd\u001B[0m\u001B[0;34m\u001B[0m\u001B[0;34m\u001B[0m\u001B[0m\n\u001B[0m\u001B[1;32m      3\u001B[0m \u001B[0;32mimport\u001B[0m \u001B[0mnumpy\u001B[0m \u001B[0;32mas\u001B[0m \u001B[0mnp\u001B[0m\u001B[0;34m\u001B[0m\u001B[0;34m\u001B[0m\u001B[0m\n\u001B[1;32m      4\u001B[0m \u001B[0;32mimport\u001B[0m \u001B[0mmatplotlib\u001B[0m\u001B[0;34m.\u001B[0m\u001B[0mpyplot\u001B[0m \u001B[0;32mas\u001B[0m \u001B[0mplt\u001B[0m\u001B[0;34m\u001B[0m\u001B[0;34m\u001B[0m\u001B[0m\n\u001B[1;32m      5\u001B[0m \u001B[0;34m\u001B[0m\u001B[0m\n",
      "\u001B[0;31mModuleNotFoundError\u001B[0m: No module named 'pandas'"
     ]
    }
   ],
   "source": [
    "# Core Python Data Analysis\n",
    "import pandas as pd\n",
    "import numpy as np\n",
    "import matplotlib.pyplot as plt\n",
    "\n",
    "# Plotting\n",
    "from plotnine import (\n",
    "    ggplot, aes,\n",
    "    geom_col, geom_line, geom_smooth,\n",
    "    facet_wrap,\n",
    "    scale_y_continuous, scale_x_continuous,\n",
    "    labs,\n",
    "    theme, theme_minimal, theme_matplotlib\n",
    ")\n",
    "\n",
    "from mizani.breaks import date_breaks\n",
    "from mizani.formatters import date_format, currency_format\n",
    "\n",
    "# Misc\n",
    "from os import mkdir, getcwd, path\n",
    "\n",
    "from rich import pretty\n",
    "pretty.install()\n"
   ]
  },
  {
   "cell_type": "code",
   "execution_count": 6,
   "id": "ee83cc42",
   "metadata": {
    "ExecuteTime": {
     "end_time": "2023-09-28T16:09:09.780860600Z",
     "start_time": "2023-09-28T16:09:09.759056300Z"
    }
   },
   "outputs": [
    {
     "ename": "ModuleNotFoundError",
     "evalue": "No module named 'openpyxl'",
     "output_type": "error",
     "traceback": [
      "\u001B[0;31m---------------------------------------------------------------------------\u001B[0m",
      "\u001B[0;31mModuleNotFoundError\u001B[0m                       Traceback (most recent call last)",
      "\u001B[0;32m/tmp/ipykernel_451/40764146.py\u001B[0m in \u001B[0;36m<module>\u001B[0;34m\u001B[0m\n\u001B[1;32m      1\u001B[0m \u001B[0;32mimport\u001B[0m \u001B[0mwarnings\u001B[0m\u001B[0;34m\u001B[0m\u001B[0;34m\u001B[0m\u001B[0m\n\u001B[0;32m----> 2\u001B[0;31m \u001B[0;32mfrom\u001B[0m \u001B[0mopenpyxl\u001B[0m \u001B[0;32mimport\u001B[0m \u001B[0mWorkbook\u001B[0m\u001B[0;34m\u001B[0m\u001B[0;34m\u001B[0m\u001B[0m\n\u001B[0m",
      "\u001B[0;31mModuleNotFoundError\u001B[0m: No module named 'openpyxl'"
     ]
    }
   ],
   "source": [
    "import warnings\n",
    "from openpyxl import Workbook"
   ]
  },
  {
   "cell_type": "code",
   "execution_count": null,
   "id": "3b7f17ecd8888906",
   "metadata": {
    "ExecuteTime": {
     "start_time": "2023-09-28T16:06:11.397906700Z"
    }
   },
   "outputs": [],
   "source": [
    "# 2.0 Importing Data Files ----\n",
    "# help(pd.read_excel)\n",
    "# - Use \"q\" to quit\n",
    "\n",
    "# getcwd()\n",
    "bikes_df = pd.read_excel(f'./00_data_raw/bikes.xlsx', engine=\"openpyxl\")\n",
    "bikes_shops_df = pd.read_excel('./00_data_raw/bikeshops.xlsx', engine=\"openpyxl\")\n",
    "orderlines_df = pd.read_excel(\n",
    "    io='00_data_raw/orderlines.xlsx',\n",
    "    converters={'order.date': str},\n",
    "    engine=\"openpyxl\"\n",
    ")\n",
    "\n",
    "# bikes_df.head(10)\n",
    "# # bike = path.abspath(\"\")\n",
    "# def get_local_folder():\n",
    "#     return path.dirname(path.realpath('00_data_raw/bikes.xlsx'))\n",
    "\n",
    "# rt_fldr = get_local_folder()\n",
    "# print(f'rel: {rt_fldr}')\n",
    "bikes_shops_df\n",
    "bikes_df.head(10)\n",
    "orderlines_df"
   ]
  },
  {
   "cell_type": "code",
   "execution_count": null,
   "id": "92396f4ceac829c1",
   "metadata": {
    "ExecuteTime": {
     "start_time": "2023-09-28T16:06:11.401924800Z"
    }
   },
   "outputs": [],
   "source": [
    "# 3.0 Examining Data ----\n",
    "\n",
    "\n",
    "# 4.0 Joining Data ----\n",
    "\n",
    "\n",
    "# 5.0 Wrangling Data ----\n",
    "\n",
    "# * No copy\n",
    "\n",
    "\n",
    "# * Copy\n",
    "\n",
    "\n",
    "# * Handle Dates\n",
    "\n",
    "\n",
    "# * Show Effect: Copy vs No Copy\n",
    "\n",
    "\n",
    "# * Text Columns\n",
    "\n",
    "\n",
    "# * Splitting Description into category_1, category_2, and frame_material\n",
    "\n",
    "\n",
    "# * Splitting Location into City and State\n",
    "\n",
    "\n",
    "# * Price Extended\n",
    "\n",
    "\n",
    "# * Reorganizing\n",
    "\n",
    "\n",
    "# * Renaming columns\n",
    "\n",
    "\n",
    "# 6.0 Visualizing a Time Series ----\n",
    "\n",
    "\n",
    "# 6.1 Total Sales by Month ----\n",
    "\n",
    "\n",
    "# Quick Plot ----\n",
    "\n",
    "\n",
    "# Report Plot ----\n",
    "\n",
    "\n",
    "# 6.2 Sales by Year and Category 2 ----\n",
    "\n",
    "# ** Step 1 - Manipulate ----\n",
    "\n",
    "\n",
    "# Step 2 - Visualize ----\n",
    "\n",
    "\n",
    "# Simple Plot\n",
    "\n",
    "\n",
    "# Reporting Plot\n",
    "\n",
    "\n",
    "# 7.0 Writing Files ----\n",
    "\n",
    "\n",
    "# Pickle ----\n",
    "\n",
    "\n",
    "# CSV ----\n",
    "\n",
    "\n",
    "# Excel ----\n",
    "\n",
    "\n",
    "# WHERE WE'RE GOING\n",
    "# - Building a forecast system\n",
    "# - Create a database to host our raw data\n",
    "# - Develop Modular Functions to:\n",
    "#   - Collect data\n",
    "#   - Summarize data and prepare for forecast\n",
    "#   - Run Automatic Forecasting for One or More Time Series\n",
    "#   - Store Forecast in Database\n",
    "#   - Retrieve Forecasts and Report using Templates\n"
   ]
  },
  {
   "cell_type": "code",
   "execution_count": null,
   "id": "12ca8e65",
   "metadata": {
    "ExecuteTime": {
     "start_time": "2023-09-28T16:06:11.401924800Z"
    }
   },
   "outputs": [],
   "source": [
    "s = bikes_df['description']"
   ]
  },
  {
   "cell_type": "code",
   "execution_count": null,
   "id": "dbbcab29",
   "metadata": {
    "ExecuteTime": {
     "start_time": "2023-09-28T16:06:11.402920600Z"
    }
   },
   "outputs": [],
   "source": [
    "freq_count_series = s.value_counts()"
   ]
  },
  {
   "cell_type": "code",
   "execution_count": null,
   "id": "2232aa48",
   "metadata": {
    "ExecuteTime": {
     "start_time": "2023-09-28T16:06:11.402920600Z"
    }
   },
   "outputs": [],
   "source": [
    "freq_count_series.nlargest()"
   ]
  },
  {
   "cell_type": "code",
   "execution_count": null,
   "id": "2ad2e38e",
   "metadata": {
    "ExecuteTime": {
     "start_time": "2023-09-28T16:06:11.402920600Z"
    }
   },
   "outputs": [],
   "source": [
    "top5_bikes_series = bikes_df['description'].value_counts().nlargest()"
   ]
  },
  {
   "cell_type": "code",
   "execution_count": null,
   "id": "d3f21dec",
   "metadata": {
    "ExecuteTime": {
     "start_time": "2023-09-28T16:06:11.402920600Z"
    }
   },
   "outputs": [],
   "source": [
    "?pd.Series.plot"
   ]
  },
  {
   "cell_type": "code",
   "execution_count": null,
   "id": "65eb02e6",
   "metadata": {
    "ExecuteTime": {
     "start_time": "2023-09-28T16:06:11.403920500Z"
    }
   },
   "outputs": [],
   "source": [
    "top5_bikes_series"
   ]
  },
  {
   "cell_type": "code",
   "execution_count": 3,
   "id": "e55b38aa",
   "metadata": {
    "ExecuteTime": {
     "start_time": "2023-09-28T16:06:11.403920500Z"
    }
   },
   "outputs": [
    {
     "ename": "NameError",
     "evalue": "name 'top5_bikes_series' is not defined",
     "output_type": "error",
     "traceback": [
      "\u001B[0;31m---------------------------------------------------------------------------\u001B[0m",
      "\u001B[0;31mNameError\u001B[0m                                 Traceback (most recent call last)",
      "\u001B[0;32m/tmp/ipykernel_451/2752231697.py\u001B[0m in \u001B[0;36m<module>\u001B[0;34m\u001B[0m\n\u001B[0;32m----> 1\u001B[0;31m \u001B[0mfig1\u001B[0m \u001B[0;34m=\u001B[0m \u001B[0mtop5_bikes_series\u001B[0m\u001B[0;34m.\u001B[0m\u001B[0mplot\u001B[0m\u001B[0;34m(\u001B[0m\u001B[0mkind\u001B[0m\u001B[0;34m=\u001B[0m\u001B[0;34m'barh'\u001B[0m\u001B[0;34m)\u001B[0m\u001B[0;34m\u001B[0m\u001B[0;34m\u001B[0m\u001B[0m\n\u001B[0m\u001B[1;32m      2\u001B[0m \u001B[0mfig1\u001B[0m\u001B[0;34m.\u001B[0m\u001B[0minvert_yaxis\u001B[0m\u001B[0;34m(\u001B[0m\u001B[0;34m)\u001B[0m\u001B[0;34m\u001B[0m\u001B[0;34m\u001B[0m\u001B[0m\n",
      "\u001B[0;31mNameError\u001B[0m: name 'top5_bikes_series' is not defined"
     ]
    }
   ],
   "source": [
    "fig1 = top5_bikes_series.plot(kind='barh')\n",
    "fig1.invert_yaxis()"
   ]
  },
  {
   "cell_type": "code",
   "execution_count": null,
   "id": "bb205a87",
   "metadata": {
    "ExecuteTime": {
     "start_time": "2023-09-28T16:06:11.405920500Z"
    }
   },
   "outputs": [],
   "source": [
    "fig2 = pd.Series.plot(top5_bikes_series)\n",
    "plt.show()"
   ]
  },
  {
   "cell_type": "code",
   "execution_count": null,
   "id": "24120ed3",
   "metadata": {
    "ExecuteTime": {
     "start_time": "2023-09-28T16:06:11.405920500Z"
    }
   },
   "outputs": [],
   "source": []
  },
  {
   "cell_type": "code",
   "execution_count": null,
   "id": "6cb2c418",
   "metadata": {
    "ExecuteTime": {
     "start_time": "2023-09-28T16:06:11.405920500Z"
    }
   },
   "outputs": [],
   "source": []
  }
 ],
 "metadata": {
  "kernelspec": {
   "display_name": "Python 3 (ipykernel)",
   "language": "python",
   "name": "python3"
  },
  "language_info": {
   "codemirror_mode": {
    "name": "ipython",
    "version": 3
   },
   "file_extension": ".py",
   "mimetype": "text/x-python",
   "name": "python",
   "nbconvert_exporter": "python",
   "pygments_lexer": "ipython3",
   "version": "3.9.7"
  }
 },
 "nbformat": 4,
 "nbformat_minor": 5
}
